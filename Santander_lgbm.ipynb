{
 "cells": [
  {
   "cell_type": "markdown",
   "metadata": {},
   "source": [
    "# Santander Data -  Light Gradient Boosting Approach"
   ]
  },
  {
   "cell_type": "markdown",
   "metadata": {},
   "source": [
    "In this problem, we need to identify which customers will make a specific transaction in the future, \n",
    "irrespective of the amount of money transacted.\n",
    "Training data is an anonymous data set containing 200 numeric feature variables, the binary target column, \n",
    "and a string ID_code column and 2,00,000 observations.\n",
    "Test data includes 200 anonymous numeric variables and a string ID_code column and 2,00,000 observations. \n",
    "This is a binary classification problem under supervised machine learning algorithm. The task is to predict\n",
    "the value of target column in the test set."
   ]
  },
  {
   "cell_type": "code",
   "execution_count": 272,
   "metadata": {},
   "outputs": [],
   "source": [
    "#import dependencies\n",
    "import pandas as pd\n",
    "import numpy as np\n",
    "from sklearn.preprocessing import StandardScaler\n",
    "from sklearn.decomposition import PCA\n",
    "import matplotlib.pyplot as plt\n",
    "from sklearn.model_selection import train_test_split\n",
    "import lightgbm as lgb\n",
    "import xgboost as xgb\n",
    "from sklearn.metrics import accuracy_score\n",
    "from sklearn.metrics import confusion_matrix\n",
    "from sklearn.metrics import roc_auc_score\n",
    "import seaborn as sns\n"
   ]
  },
  {
   "cell_type": "code",
   "execution_count": 261,
   "metadata": {},
   "outputs": [
    {
     "data": {
      "text/html": [
       "<div>\n",
       "<style scoped>\n",
       "    .dataframe tbody tr th:only-of-type {\n",
       "        vertical-align: middle;\n",
       "    }\n",
       "\n",
       "    .dataframe tbody tr th {\n",
       "        vertical-align: top;\n",
       "    }\n",
       "\n",
       "    .dataframe thead th {\n",
       "        text-align: right;\n",
       "    }\n",
       "</style>\n",
       "<table border=\"1\" class=\"dataframe\">\n",
       "  <thead>\n",
       "    <tr style=\"text-align: right;\">\n",
       "      <th></th>\n",
       "      <th>Do1</th>\n",
       "      <th>Do2</th>\n",
       "      <th>Do3</th>\n",
       "      <th>Do4</th>\n",
       "      <th>Do5</th>\n",
       "      <th>Do6</th>\n",
       "      <th>Do7</th>\n",
       "      <th>Do8</th>\n",
       "      <th>Do9</th>\n",
       "      <th>Do10</th>\n",
       "      <th>...</th>\n",
       "      <th>Do391</th>\n",
       "      <th>Do392</th>\n",
       "      <th>Do393</th>\n",
       "      <th>Do394</th>\n",
       "      <th>Do395</th>\n",
       "      <th>Do396</th>\n",
       "      <th>Do397</th>\n",
       "      <th>Do398</th>\n",
       "      <th>Do399</th>\n",
       "      <th>Do400</th>\n",
       "    </tr>\n",
       "  </thead>\n",
       "  <tbody>\n",
       "    <tr>\n",
       "      <th>0</th>\n",
       "      <td>8.9255</td>\n",
       "      <td>-6.7863</td>\n",
       "      <td>11.9081</td>\n",
       "      <td>5.0930</td>\n",
       "      <td>11.4607</td>\n",
       "      <td>-9.2834</td>\n",
       "      <td>5.1187</td>\n",
       "      <td>18.6266</td>\n",
       "      <td>-4.9200</td>\n",
       "      <td>5.7470</td>\n",
       "      <td>...</td>\n",
       "      <td>3</td>\n",
       "      <td>6</td>\n",
       "      <td>7</td>\n",
       "      <td>3</td>\n",
       "      <td>4</td>\n",
       "      <td>4</td>\n",
       "      <td>3</td>\n",
       "      <td>13</td>\n",
       "      <td>5</td>\n",
       "      <td>2</td>\n",
       "    </tr>\n",
       "    <tr>\n",
       "      <th>1</th>\n",
       "      <td>11.5006</td>\n",
       "      <td>-4.1473</td>\n",
       "      <td>13.8588</td>\n",
       "      <td>5.3890</td>\n",
       "      <td>12.3622</td>\n",
       "      <td>7.0433</td>\n",
       "      <td>5.6208</td>\n",
       "      <td>16.5338</td>\n",
       "      <td>3.1468</td>\n",
       "      <td>8.0851</td>\n",
       "      <td>...</td>\n",
       "      <td>5</td>\n",
       "      <td>4</td>\n",
       "      <td>6</td>\n",
       "      <td>1</td>\n",
       "      <td>1</td>\n",
       "      <td>2</td>\n",
       "      <td>2</td>\n",
       "      <td>13</td>\n",
       "      <td>2</td>\n",
       "      <td>1</td>\n",
       "    </tr>\n",
       "    <tr>\n",
       "      <th>2</th>\n",
       "      <td>8.6093</td>\n",
       "      <td>-2.7457</td>\n",
       "      <td>12.0805</td>\n",
       "      <td>7.8928</td>\n",
       "      <td>10.5825</td>\n",
       "      <td>-9.0837</td>\n",
       "      <td>6.9427</td>\n",
       "      <td>14.6155</td>\n",
       "      <td>-4.9193</td>\n",
       "      <td>5.9525</td>\n",
       "      <td>...</td>\n",
       "      <td>3</td>\n",
       "      <td>4</td>\n",
       "      <td>3</td>\n",
       "      <td>1</td>\n",
       "      <td>2</td>\n",
       "      <td>2</td>\n",
       "      <td>3</td>\n",
       "      <td>8</td>\n",
       "      <td>2</td>\n",
       "      <td>2</td>\n",
       "    </tr>\n",
       "    <tr>\n",
       "      <th>3</th>\n",
       "      <td>11.0604</td>\n",
       "      <td>-2.1518</td>\n",
       "      <td>8.9522</td>\n",
       "      <td>7.1957</td>\n",
       "      <td>12.5846</td>\n",
       "      <td>-1.8361</td>\n",
       "      <td>5.8428</td>\n",
       "      <td>14.9250</td>\n",
       "      <td>-5.8609</td>\n",
       "      <td>8.2450</td>\n",
       "      <td>...</td>\n",
       "      <td>1</td>\n",
       "      <td>2</td>\n",
       "      <td>4</td>\n",
       "      <td>4</td>\n",
       "      <td>3</td>\n",
       "      <td>7</td>\n",
       "      <td>4</td>\n",
       "      <td>4</td>\n",
       "      <td>2</td>\n",
       "      <td>2</td>\n",
       "    </tr>\n",
       "    <tr>\n",
       "      <th>4</th>\n",
       "      <td>9.8369</td>\n",
       "      <td>-1.4834</td>\n",
       "      <td>12.8746</td>\n",
       "      <td>6.6375</td>\n",
       "      <td>12.2772</td>\n",
       "      <td>2.4486</td>\n",
       "      <td>5.9405</td>\n",
       "      <td>19.2514</td>\n",
       "      <td>6.2654</td>\n",
       "      <td>7.6784</td>\n",
       "      <td>...</td>\n",
       "      <td>3</td>\n",
       "      <td>4</td>\n",
       "      <td>1</td>\n",
       "      <td>1</td>\n",
       "      <td>1</td>\n",
       "      <td>5</td>\n",
       "      <td>3</td>\n",
       "      <td>6</td>\n",
       "      <td>2</td>\n",
       "      <td>2</td>\n",
       "    </tr>\n",
       "  </tbody>\n",
       "</table>\n",
       "<p>5 rows × 400 columns</p>\n",
       "</div>"
      ],
      "text/plain": [
       "       Do1     Do2      Do3     Do4      Do5     Do6     Do7      Do8     Do9  \\\n",
       "0   8.9255 -6.7863  11.9081  5.0930  11.4607 -9.2834  5.1187  18.6266 -4.9200   \n",
       "1  11.5006 -4.1473  13.8588  5.3890  12.3622  7.0433  5.6208  16.5338  3.1468   \n",
       "2   8.6093 -2.7457  12.0805  7.8928  10.5825 -9.0837  6.9427  14.6155 -4.9193   \n",
       "3  11.0604 -2.1518   8.9522  7.1957  12.5846 -1.8361  5.8428  14.9250 -5.8609   \n",
       "4   9.8369 -1.4834  12.8746  6.6375  12.2772  2.4486  5.9405  19.2514  6.2654   \n",
       "\n",
       "     Do10  ...    Do391  Do392  Do393  Do394  Do395  Do396  Do397  Do398  \\\n",
       "0  5.7470  ...        3      6      7      3      4      4      3     13   \n",
       "1  8.0851  ...        5      4      6      1      1      2      2     13   \n",
       "2  5.9525  ...        3      4      3      1      2      2      3      8   \n",
       "3  8.2450  ...        1      2      4      4      3      7      4      4   \n",
       "4  7.6784  ...        3      4      1      1      1      5      3      6   \n",
       "\n",
       "   Do399  Do400  \n",
       "0      5      2  \n",
       "1      2      1  \n",
       "2      2      2  \n",
       "3      2      2  \n",
       "4      2      2  \n",
       "\n",
       "[5 rows x 400 columns]"
      ]
     },
     "execution_count": 261,
     "metadata": {},
     "output_type": "execute_result"
    }
   ],
   "source": [
    "#Load the train and test dataset\n",
    "train = pd.read_csv('MATLAB/Intro_ML/santander-customer-transaction-prediction/train.csv')\n",
    "test = pd.read_csv('MATLAB/Intro_ML/santander-customer-transaction-prediction/test.csv')\n",
    "train.head()"
   ]
  },
  {
   "cell_type": "code",
   "execution_count": 270,
   "metadata": {},
   "outputs": [
    {
     "data": {
      "text/plain": [
       "0.998698705032354"
      ]
     },
     "execution_count": 270,
     "metadata": {},
     "output_type": "execute_result"
    }
   ],
   "source": [
    "np.max(trainPred)"
   ]
  },
  {
   "cell_type": "code",
   "execution_count": 119,
   "metadata": {},
   "outputs": [
    {
     "data": {
      "image/png": "[encoded data removed]",
      "text/plain": [
       "<Figure size 432x288 with 1 Axes>"
      ]
     },
     "metadata": {},
     "output_type": "display_data"
    }
   ],
   "source": [
    "sns.set(style=\"darkgrid\")\n",
    "sns.countplot(train['target'])\n",
    "plt.title('Count Plot in Target')\n",
    "plt.tight_layout()"
   ]
  },
  {
   "cell_type": "markdown",
   "metadata": {},
   "source": [
    "This shows that the dataset is skewed."
   ]
  },
  {
   "cell_type": "code",
   "execution_count": 59,
   "metadata": {},
   "outputs": [],
   "source": [
    "# Separate Variable and Response\n",
    "X = train.drop(['ID_code','target'],axis = 'columns')\n",
    "Xtest = test.drop(['ID_code'],axis = 'columns')\n",
    "y = train['target']"
   ]
  },
  {
   "cell_type": "code",
   "execution_count": 121,
   "metadata": {
    "scrolled": true
   },
   "outputs": [
    {
     "data": {
      "image/png": "[encoded data removed]",
      "text/plain": [
       "<Figure size 360x360 with 1 Axes>"
      ]
     },
     "metadata": {},
     "output_type": "display_data"
    }
   ],
   "source": [
    "#Standardize and PCA\n",
    "scaler = StandardScaler()\n",
    "Xtrain_scaled = scaler.fit_transform(Xtrain)\n",
    "pca = PCA()\n",
    "Xtrain_transformed = pca.fit_transform(Xtrain_scaled)\n",
    "sum(pca.explained_variance_ratio_[1:200])\n",
    "var_ratio = np.cumsum(pca.explained_variance_ratio_)\n",
    "plt.figure(figsize=(5, 5))\n",
    "plt.plot(range(200), var_ratio, alpha=0.75)\n",
    "plt.ylabel('Explained variance ratio')\n",
    "plt.xlabel('Principal components')\n",
    "plt.title('Cumulative Explained variable ratio')\n",
    "plt.tight_layout()\n",
    "    "
   ]
  },
  {
   "cell_type": "markdown",
   "metadata": {},
   "source": [
    "This dataset has variables that are uncorrelated,PCA cannot be used here for dimensionality reduction."
   ]
  },
  {
   "cell_type": "code",
   "execution_count": 138,
   "metadata": {},
   "outputs": [],
   "source": [
    "#Cross-Validation \n",
    "Xtrain, Xvalid, ytrain, yvalid = train_test_split(X,y, test_size = 0.2, random_state = 0)"
   ]
  },
  {
   "cell_type": "code",
   "execution_count": 292,
   "metadata": {},
   "outputs": [
    {
     "name": "stdout",
     "output_type": "stream",
     "text": [
      "[1]\tvalid_0's auc: 0.573583\n",
      "Training until validation scores don't improve for 100 rounds.\n",
      "[2]\tvalid_0's auc: 0.614413\n",
      "[3]\tvalid_0's auc: 0.645646\n",
      "[4]\tvalid_0's auc: 0.665881\n",
      "[5]\tvalid_0's auc: 0.670691\n",
      "[6]\tvalid_0's auc: 0.686349\n",
      "[7]\tvalid_0's auc: 0.704848\n",
      "[8]\tvalid_0's auc: 0.707671\n",
      "[9]\tvalid_0's auc: 0.712975\n",
      "[10]\tvalid_0's auc: 0.714883\n",
      "[11]\tvalid_0's auc: 0.721784\n",
      "[12]\tvalid_0's auc: 0.724061\n",
      "[13]\tvalid_0's auc: 0.732796\n",
      "[14]\tvalid_0's auc: 0.738614\n",
      "[15]\tvalid_0's auc: 0.746983\n",
      "[16]\tvalid_0's auc: 0.756734\n",
      "[17]\tvalid_0's auc: 0.762163\n",
      "[18]\tvalid_0's auc: 0.765827\n",
      "[19]\tvalid_0's auc: 0.766663\n",
      "[20]\tvalid_0's auc: 0.764134\n",
      "[21]\tvalid_0's auc: 0.763023\n",
      "[22]\tvalid_0's auc: 0.77359\n",
      "[23]\tvalid_0's auc: 0.775659\n",
      "[24]\tvalid_0's auc: 0.773864\n",
      "[25]\tvalid_0's auc: 0.777967\n",
      "[26]\tvalid_0's auc: 0.781267\n",
      "[27]\tvalid_0's auc: 0.780182\n",
      "[28]\tvalid_0's auc: 0.779798\n",
      "[29]\tvalid_0's auc: 0.78269\n",
      "[30]\tvalid_0's auc: 0.787211\n",
      "[31]\tvalid_0's auc: 0.788717\n",
      "[32]\tvalid_0's auc: 0.791891\n",
      "[33]\tvalid_0's auc: 0.795313\n",
      "[34]\tvalid_0's auc: 0.794903\n",
      "[35]\tvalid_0's auc: 0.800557\n",
      "[36]\tvalid_0's auc: 0.801892\n",
      "[37]\tvalid_0's auc: 0.803272\n",
      "[38]\tvalid_0's auc: 0.802825\n",
      "[39]\tvalid_0's auc: 0.80452\n",
      "[40]\tvalid_0's auc: 0.803197\n",
      "[41]\tvalid_0's auc: 0.803968\n",
      "[42]\tvalid_0's auc: 0.805554\n",
      "[43]\tvalid_0's auc: 0.807379\n",
      "[44]\tvalid_0's auc: 0.808565\n",
      "[45]\tvalid_0's auc: 0.811611\n",
      "[46]\tvalid_0's auc: 0.812472\n",
      "[47]\tvalid_0's auc: 0.814037\n",
      "[48]\tvalid_0's auc: 0.814878\n",
      "[49]\tvalid_0's auc: 0.814997\n",
      "[50]\tvalid_0's auc: 0.81792\n",
      "[51]\tvalid_0's auc: 0.819263\n",
      "[52]\tvalid_0's auc: 0.820951\n",
      "[53]\tvalid_0's auc: 0.822539\n",
      "[54]\tvalid_0's auc: 0.824388\n",
      "[55]\tvalid_0's auc: 0.825024\n",
      "[56]\tvalid_0's auc: 0.82737\n",
      "[57]\tvalid_0's auc: 0.826886\n",
      "[58]\tvalid_0's auc: 0.826913\n",
      "[59]\tvalid_0's auc: 0.828241\n",
      "[60]\tvalid_0's auc: 0.828197\n",
      "[61]\tvalid_0's auc: 0.830001\n",
      "[62]\tvalid_0's auc: 0.830383\n",
      "[63]\tvalid_0's auc: 0.829725\n",
      "[64]\tvalid_0's auc: 0.831556\n",
      "[65]\tvalid_0's auc: 0.832712\n",
      "[66]\tvalid_0's auc: 0.833815\n",
      "[67]\tvalid_0's auc: 0.833824\n",
      "[68]\tvalid_0's auc: 0.833961\n",
      "[69]\tvalid_0's auc: 0.835271\n",
      "[70]\tvalid_0's auc: 0.835766\n",
      "[71]\tvalid_0's auc: 0.835902\n",
      "[72]\tvalid_0's auc: 0.836725\n",
      "[73]\tvalid_0's auc: 0.836738\n",
      "[74]\tvalid_0's auc: 0.838191\n",
      "[75]\tvalid_0's auc: 0.838714\n",
      "[76]\tvalid_0's auc: 0.838824\n",
      "[77]\tvalid_0's auc: 0.838846\n",
      "[78]\tvalid_0's auc: 0.839602\n",
      "[79]\tvalid_0's auc: 0.839154\n",
      "[80]\tvalid_0's auc: 0.840443\n",
      "[81]\tvalid_0's auc: 0.840819\n",
      "[82]\tvalid_0's auc: 0.842557\n",
      "[83]\tvalid_0's auc: 0.842769\n",
      "[84]\tvalid_0's auc: 0.843261\n",
      "[85]\tvalid_0's auc: 0.843848\n",
      "[86]\tvalid_0's auc: 0.844701\n",
      "[87]\tvalid_0's auc: 0.844159\n",
      "[88]\tvalid_0's auc: 0.844988\n",
      "[89]\tvalid_0's auc: 0.84606\n",
      "[90]\tvalid_0's auc: 0.846276\n",
      "[91]\tvalid_0's auc: 0.846468\n",
      "[92]\tvalid_0's auc: 0.84677\n",
      "[93]\tvalid_0's auc: 0.84714\n",
      "[94]\tvalid_0's auc: 0.847919\n",
      "[95]\tvalid_0's auc: 0.848079\n",
      "[96]\tvalid_0's auc: 0.848319\n",
      "[97]\tvalid_0's auc: 0.848455\n",
      "[98]\tvalid_0's auc: 0.847808\n",
      "[99]\tvalid_0's auc: 0.847875\n",
      "[100]\tvalid_0's auc: 0.847515\n",
      "[101]\tvalid_0's auc: 0.847388\n",
      "[102]\tvalid_0's auc: 0.846992\n",
      "[103]\tvalid_0's auc: 0.848033\n",
      "[104]\tvalid_0's auc: 0.848357\n",
      "[105]\tvalid_0's auc: 0.84844\n",
      "[106]\tvalid_0's auc: 0.848517\n",
      "[107]\tvalid_0's auc: 0.848593\n",
      "[108]\tvalid_0's auc: 0.848815\n",
      "[109]\tvalid_0's auc: 0.848606\n",
      "[110]\tvalid_0's auc: 0.848574\n",
      "[111]\tvalid_0's auc: 0.848367\n",
      "[112]\tvalid_0's auc: 0.848899\n",
      "[113]\tvalid_0's auc: 0.849377\n",
      "[114]\tvalid_0's auc: 0.848796\n",
      "[115]\tvalid_0's auc: 0.849525\n",
      "[116]\tvalid_0's auc: 0.849851\n",
      "[117]\tvalid_0's auc: 0.85074\n",
      "[118]\tvalid_0's auc: 0.850873\n",
      "[119]\tvalid_0's auc: 0.850931\n",
      "[120]\tvalid_0's auc: 0.851032\n",
      "[121]\tvalid_0's auc: 0.851577\n",
      "[122]\tvalid_0's auc: 0.851774\n",
      "[123]\tvalid_0's auc: 0.851551\n",
      "[124]\tvalid_0's auc: 0.851322\n",
      "[125]\tvalid_0's auc: 0.850887\n",
      "[126]\tvalid_0's auc: 0.85087\n",
      "[127]\tvalid_0's auc: 0.850936\n",
      "[128]\tvalid_0's auc: 0.850957\n",
      "[129]\tvalid_0's auc: 0.850329\n",
      "[130]\tvalid_0's auc: 0.850548\n",
      "[131]\tvalid_0's auc: 0.8511\n",
      "[132]\tvalid_0's auc: 0.851112\n",
      "[133]\tvalid_0's auc: 0.851284\n",
      "[134]\tvalid_0's auc: 0.850825\n",
      "[135]\tvalid_0's auc: 0.85108\n",
      "[136]\tvalid_0's auc: 0.851144\n",
      "[137]\tvalid_0's auc: 0.851741\n",
      "[138]\tvalid_0's auc: 0.851792\n",
      "[139]\tvalid_0's auc: 0.852324\n",
      "[140]\tvalid_0's auc: 0.852879\n",
      "[141]\tvalid_0's auc: 0.85279\n",
      "[142]\tvalid_0's auc: 0.853258\n",
      "[143]\tvalid_0's auc: 0.853366\n",
      "[144]\tvalid_0's auc: 0.853848\n",
      "[145]\tvalid_0's auc: 0.854385\n",
      "[146]\tvalid_0's auc: 0.854379\n",
      "[147]\tvalid_0's auc: 0.854568\n",
      "[148]\tvalid_0's auc: 0.85475\n",
      "[149]\tvalid_0's auc: 0.854992\n",
      "[150]\tvalid_0's auc: 0.855263\n",
      "[151]\tvalid_0's auc: 0.855184\n",
      "[152]\tvalid_0's auc: 0.855096\n",
      "[153]\tvalid_0's auc: 0.855604\n",
      "[154]\tvalid_0's auc: 0.855575\n",
      "[155]\tvalid_0's auc: 0.856002\n",
      "[156]\tvalid_0's auc: 0.856165\n",
      "[157]\tvalid_0's auc: 0.85647\n",
      "[158]\tvalid_0's auc: 0.856627\n",
      "[159]\tvalid_0's auc: 0.8571\n",
      "[160]\tvalid_0's auc: 0.857867\n",
      "[161]\tvalid_0's auc: 0.85794\n",
      "[162]\tvalid_0's auc: 0.857828\n",
      "[163]\tvalid_0's auc: 0.858144\n",
      "[164]\tvalid_0's auc: 0.858222\n",
      "[165]\tvalid_0's auc: 0.858588\n",
      "[166]\tvalid_0's auc: 0.858571\n",
      "[167]\tvalid_0's auc: 0.858759\n",
      "[168]\tvalid_0's auc: 0.859056\n",
      "[169]\tvalid_0's auc: 0.858803\n",
      "[170]\tvalid_0's auc: 0.859\n",
      "[171]\tvalid_0's auc: 0.859491\n",
      "Did not meet early stopping. Best iteration is:\n",
      "[171]\tvalid_0's auc: 0.859491\n"
     ]
    }
   ],
   "source": [
    "#Create dataset for LGBM, and create parameters for LGBM classifier\n",
    "lgb_dataset = lgb.Dataset(Xtrain, label = ytrain)\n",
    "#lgb_dataset1 = lgb.Dataset(X, label = y  )\n",
    "lgbV_dataset = lgb.Dataset(Xvalid, label = yvalid, reference=lgb_dataset)\n",
    "params = {}\n",
    "params['learning_rate'] = 0.025\n",
    "params['objective'] = 'binary'\n",
    "params['boosting_type'] = 'gbdt'\n",
    "params['metric'] = 'AUC'\n",
    "params['max_depth'] = -1\n",
    "params['feature_fraction'] = 0.04\n",
    "params['min_data_in_leaf'] = 100\n",
    "params['num_leaves'] = 8\n",
    "#params['sub_feature'] = 0.5\n",
    "#clf = lgb.cv(params,lgb_dataset1,num_boost_round = 10000,nfold=10,early_stopping_rounds=100)\n",
    "clf = lgb.train(params,lgb_dataset,num_boost_round = 171,valid_sets=lgbV_dataset,early_stopping_rounds=100)\n"
   ]
  },
  {
   "cell_type": "code",
   "execution_count": 289,
   "metadata": {},
   "outputs": [],
   "source": [
    "#Make Predictions on the test dataset\n",
    "testPred = clf.predict(Xtest)"
   ]
  },
  {
   "cell_type": "code",
   "execution_count": 291,
   "metadata": {},
   "outputs": [],
   "source": [
    "#Create result.csv\n",
    "sub = pd.DataFrame()\n",
    "sub['ID_code'] = test['ID_code']\n",
    "sub['target'] = testPred\n",
    "sub.to_csv('result6.csv', index=False)"
   ]
  },
  {
   "cell_type": "code",
   "execution_count": 295,
   "metadata": {},
   "outputs": [
    {
     "data": {
      "text/plain": [
       "5372"
      ]
     },
     "execution_count": 295,
     "metadata": {},
     "output_type": "execute_result"
    }
   ],
   "source": [
    "len(false_positive_rate)"
   ]
  },
  {
   "cell_type": "code",
   "execution_count": 293,
   "metadata": {},
   "outputs": [
    {
     "data": {
      "text/plain": [
       "Text(0.5, 0, 'False Positive Rate')"
      ]
     },
     "execution_count": 293,
     "metadata": {},
     "output_type": "execute_result"
    },
    {
     "data": {
      "image/png": "[encoded data removed]",
      "text/plain": [
       "<Figure size 720x720 with 1 Axes>"
      ]
     },
     "metadata": {},
     "output_type": "display_data"
    }
   ],
   "source": [
    "from sklearn.metrics import roc_curve, auc\n",
    "ypred = clf.predict(Xvalid)\n",
    "false_positive_rate, true_positive_rate, thresholds = roc_curve(yvalid, ypred)\n",
    "roc_auc = auc(false_positive_rate, true_positive_rate)\n",
    "roc_auc\n",
    "import matplotlib.pyplot as plt\n",
    "plt.figure(figsize=(10,10))\n",
    "plt.title('Receiver Operating Characteristic')\n",
    "plt.plot(false_positive_rate,true_positive_rate, color='red',label = 'AUC = %0.2f' % roc_auc)\n",
    "plt.legend(loc = 'lower right')\n",
    "plt.plot([0, 1], [0, 1],linestyle='--')\n",
    "plt.axis('tight')\n",
    "plt.ylabel('True Positive Rate')\n",
    "plt.xlabel('False Positive Rate')"
   ]
  },
  {
   "cell_type": "code",
   "execution_count": null,
   "metadata": {},
   "outputs": [],
   "source": []
  }
 ],
 "metadata": {
  "kernelspec": {
   "display_name": "Python 3",
   "language": "python",
   "name": "python3"
  },
  "language_info": {
   "codemirror_mode": {
    "name": "ipython",
    "version": 3
   },
   "file_extension": ".py",
   "mimetype": "text/x-python",
   "name": "python",
   "nbconvert_exporter": "python",
   "pygments_lexer": "ipython3",
   "version": "3.7.1"
  }
 },
 "nbformat": 4,
 "nbformat_minor": 2
}
